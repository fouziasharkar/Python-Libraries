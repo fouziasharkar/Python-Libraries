{
  "nbformat": 4,
  "nbformat_minor": 0,
  "metadata": {
    "colab": {
      "provenance": [],
      "authorship_tag": "ABX9TyNOV15uqrxiVNZJxI9uN5UM",
      "include_colab_link": true
    },
    "kernelspec": {
      "name": "python3",
      "display_name": "Python 3"
    },
    "language_info": {
      "name": "python"
    }
  },
  "cells": [
    {
      "cell_type": "markdown",
      "metadata": {
        "id": "view-in-github",
        "colab_type": "text"
      },
      "source": [
        "<a href=\"https://colab.research.google.com/github/fouziasharkar/Python-Libraries/blob/main/Task_16.ipynb\" target=\"_parent\"><img src=\"https://colab.research.google.com/assets/colab-badge.svg\" alt=\"Open In Colab\"/></a>"
      ]
    },
    {
      "cell_type": "code",
      "source": [
        "import numpy as np\n",
        "import pandas as pd"
      ],
      "metadata": {
        "id": "WcxUn0qN0jDv"
      },
      "execution_count": null,
      "outputs": []
    },
    {
      "cell_type": "markdown",
      "source": [
        "###`Q-1:` Write a program to create an empty series."
      ],
      "metadata": {
        "id": "MetYTZJpYfdz"
      }
    },
    {
      "cell_type": "code",
      "source": [
        "# code here\n",
        "pd.Series()"
      ],
      "metadata": {
        "id": "KUcgT935YgC5",
        "colab": {
          "base_uri": "https://localhost:8080/"
        },
        "outputId": "d0af225d-5e23-4f0b-d59a-23cdfee946e2"
      },
      "execution_count": null,
      "outputs": [
        {
          "output_type": "execute_result",
          "data": {
            "text/plain": [
              "Series([], dtype: object)"
            ]
          },
          "metadata": {},
          "execution_count": 2
        }
      ]
    },
    {
      "cell_type": "markdown",
      "source": [
        "###`Q-2:` Write a Pandas program to add, subtract, multiple and divide two Pandas Series."
      ],
      "metadata": {
        "id": "jw5ybzU6YhOo"
      }
    },
    {
      "cell_type": "code",
      "source": [
        "p1 = pd.Series([1,2,3,4,5])\n",
        "p2 = pd.Series([6,7,8,9,10])\n",
        "p1,p2"
      ],
      "metadata": {
        "id": "EF3GgVFjYjwG",
        "colab": {
          "base_uri": "https://localhost:8080/"
        },
        "outputId": "533ef532-a9aa-49da-ab60-5489d0d3637b"
      },
      "execution_count": null,
      "outputs": [
        {
          "output_type": "execute_result",
          "data": {
            "text/plain": [
              "(0    1\n",
              " 1    2\n",
              " 2    3\n",
              " 3    4\n",
              " 4    5\n",
              " dtype: int64,\n",
              " 0     6\n",
              " 1     7\n",
              " 2     8\n",
              " 3     9\n",
              " 4    10\n",
              " dtype: int64)"
            ]
          },
          "metadata": {},
          "execution_count": 4
        }
      ]
    },
    {
      "cell_type": "code",
      "source": [
        "#add\n",
        "p1+p2"
      ],
      "metadata": {
        "colab": {
          "base_uri": "https://localhost:8080/"
        },
        "id": "wSHuRWDT1Ho1",
        "outputId": "1625c132-25db-48be-de14-e6c46735718e"
      },
      "execution_count": null,
      "outputs": [
        {
          "output_type": "execute_result",
          "data": {
            "text/plain": [
              "0     7\n",
              "1     9\n",
              "2    11\n",
              "3    13\n",
              "4    15\n",
              "dtype: int64"
            ]
          },
          "metadata": {},
          "execution_count": 5
        }
      ]
    },
    {
      "cell_type": "code",
      "source": [
        "#substract\n",
        "p1-p2"
      ],
      "metadata": {
        "colab": {
          "base_uri": "https://localhost:8080/"
        },
        "id": "kzd_L1Tt1Hrj",
        "outputId": "4808fbfa-84c4-4fa7-ec47-33c8ca1d178f"
      },
      "execution_count": null,
      "outputs": [
        {
          "output_type": "execute_result",
          "data": {
            "text/plain": [
              "0   -5\n",
              "1   -5\n",
              "2   -5\n",
              "3   -5\n",
              "4   -5\n",
              "dtype: int64"
            ]
          },
          "metadata": {},
          "execution_count": 6
        }
      ]
    },
    {
      "cell_type": "code",
      "source": [
        "#multiplication\n",
        "p1*p2"
      ],
      "metadata": {
        "colab": {
          "base_uri": "https://localhost:8080/"
        },
        "id": "WW1FyraZ1H2u",
        "outputId": "784bc7ce-4cf1-4cf7-f76c-6d2518ef580d"
      },
      "execution_count": null,
      "outputs": [
        {
          "output_type": "execute_result",
          "data": {
            "text/plain": [
              "0     6\n",
              "1    14\n",
              "2    24\n",
              "3    36\n",
              "4    50\n",
              "dtype: int64"
            ]
          },
          "metadata": {},
          "execution_count": 7
        }
      ]
    },
    {
      "cell_type": "code",
      "source": [
        "#devide\n",
        "p1/p2"
      ],
      "metadata": {
        "colab": {
          "base_uri": "https://localhost:8080/"
        },
        "id": "MBd_I5vj2Oo2",
        "outputId": "a239fd68-e058-499c-fbae-88ed0713276e"
      },
      "execution_count": null,
      "outputs": [
        {
          "output_type": "execute_result",
          "data": {
            "text/plain": [
              "0    0.166667\n",
              "1    0.285714\n",
              "2    0.375000\n",
              "3    0.444444\n",
              "4    0.500000\n",
              "dtype: float64"
            ]
          },
          "metadata": {},
          "execution_count": 8
        }
      ]
    },
    {
      "cell_type": "markdown",
      "source": [
        "###`Q-3` Write a Pandas program to compare the elements of the two Pandas Series.\n",
        "Sample Series: [2, 4, 6, 8, 10], [1, 3, 5, 7, 10]\n",
        "\n"
      ],
      "metadata": {
        "id": "TZDp25jeYlB6"
      }
    },
    {
      "cell_type": "code",
      "source": [
        "p1,p2\n"
      ],
      "metadata": {
        "id": "gFNil8ruYp1y",
        "colab": {
          "base_uri": "https://localhost:8080/"
        },
        "outputId": "2e02f81f-c1f3-4a39-de43-d9a9cdba1c67"
      },
      "execution_count": null,
      "outputs": [
        {
          "output_type": "execute_result",
          "data": {
            "text/plain": [
              "(0    1\n",
              " 1    2\n",
              " 2    3\n",
              " 3    4\n",
              " 4    5\n",
              " dtype: int64,\n",
              " 0     6\n",
              " 1     7\n",
              " 2     8\n",
              " 3     9\n",
              " 4    10\n",
              " dtype: int64)"
            ]
          },
          "metadata": {},
          "execution_count": 9
        }
      ]
    },
    {
      "cell_type": "code",
      "source": [
        "#both elements equal or unequal\n",
        "p1==p2"
      ],
      "metadata": {
        "colab": {
          "base_uri": "https://localhost:8080/"
        },
        "id": "47jRShxm2vCl",
        "outputId": "2153abd6-558c-4f12-a447-b0f3f1294589"
      },
      "execution_count": null,
      "outputs": [
        {
          "output_type": "execute_result",
          "data": {
            "text/plain": [
              "0    False\n",
              "1    False\n",
              "2    False\n",
              "3    False\n",
              "4    False\n",
              "dtype: bool"
            ]
          },
          "metadata": {},
          "execution_count": 10
        }
      ]
    },
    {
      "cell_type": "code",
      "source": [
        "#greater than\n",
        "p1>p2, p1<p2\n"
      ],
      "metadata": {
        "colab": {
          "base_uri": "https://localhost:8080/"
        },
        "id": "GMklBAny2vFO",
        "outputId": "b9a48285-8096-4e2d-d515-58962ae19724"
      },
      "execution_count": null,
      "outputs": [
        {
          "output_type": "execute_result",
          "data": {
            "text/plain": [
              "(0    False\n",
              " 1    False\n",
              " 2    False\n",
              " 3    False\n",
              " 4    False\n",
              " dtype: bool,\n",
              " 0    True\n",
              " 1    True\n",
              " 2    True\n",
              " 3    True\n",
              " 4    True\n",
              " dtype: bool)"
            ]
          },
          "metadata": {},
          "execution_count": 13
        }
      ]
    },
    {
      "cell_type": "markdown",
      "source": [
        "###`Q-5.`Write a function to change the data type of given a column or a Series. Function takes series and data type as input, returns the converted series.\n",
        "```\n",
        "series = pd.Series([1,2,'Python', 2.0, True, 100])\n",
        "change to float type data\n",
        "```\n",
        "Note: Read about pd.to_numeric()"
      ],
      "metadata": {
        "id": "HlOBn_N6YrZz"
      }
    },
    {
      "cell_type": "code",
      "source": [
        "# code here"
      ],
      "metadata": {
        "id": "_SWQJCUJYwXm"
      },
      "execution_count": null,
      "outputs": []
    },
    {
      "cell_type": "code",
      "source": [
        "series = pd.Series([1,2,'Python', 2.0, True, 100])"
      ],
      "metadata": {
        "id": "iVYHA9oD3Pld"
      },
      "execution_count": null,
      "outputs": []
    },
    {
      "cell_type": "code",
      "source": [
        "pd.to_numeric(series,errors='coerce')"
      ],
      "metadata": {
        "colab": {
          "base_uri": "https://localhost:8080/"
        },
        "id": "_Airv2L73PoO",
        "outputId": "20530ebe-9ef5-446c-8d8e-9ef62a433709"
      },
      "execution_count": null,
      "outputs": [
        {
          "output_type": "execute_result",
          "data": {
            "text/plain": [
              "0      1.0\n",
              "1      2.0\n",
              "2      NaN\n",
              "3      2.0\n",
              "4      1.0\n",
              "5    100.0\n",
              "dtype: float64"
            ]
          },
          "metadata": {},
          "execution_count": 17
        }
      ]
    },
    {
      "cell_type": "markdown",
      "source": [
        "Download data - https://drive.google.com/file/d/1LRhXwbEodeWXtzPhJCX0X9Lf_BECzvqb/view?usp=share_link\n",
        "All Batsman runs series in IPL 2008 to 2022.\n",
        "\n",
        "Below questions are based on this data."
      ],
      "metadata": {
        "id": "PGp3OqRIY0Va"
      }
    },
    {
      "cell_type": "markdown",
      "source": [
        "###`Q-6` Find top 10 most run getter from the series."
      ],
      "metadata": {
        "id": "TxFkp-L4Y23d"
      }
    },
    {
      "cell_type": "code",
      "source": [
        "# code here"
      ],
      "metadata": {
        "id": "muBgocA6Y2Bg"
      },
      "execution_count": null,
      "outputs": []
    },
    {
      "cell_type": "code",
      "source": [
        "batsman_run = pd.read_csv('/content/batsman_runs_series.csv',index_col='batter').squeeze()\n",
        "batsman_run"
      ],
      "metadata": {
        "colab": {
          "base_uri": "https://localhost:8080/"
        },
        "id": "T3-7-H2W7mU1",
        "outputId": "4570858f-50da-44e3-926a-adca5b1ddd7d"
      },
      "execution_count": null,
      "outputs": [
        {
          "output_type": "execute_result",
          "data": {
            "text/plain": [
              "batter\n",
              "A Ashish Reddy     280\n",
              "A Badoni           161\n",
              "A Chandila           4\n",
              "A Chopra            53\n",
              "A Choudhary         25\n",
              "                  ... \n",
              "Yash Dayal           0\n",
              "Yashpal Singh       47\n",
              "Younis Khan          3\n",
              "Yuvraj Singh      2754\n",
              "Z Khan             117\n",
              "Name: batsman_run, Length: 605, dtype: int64"
            ]
          },
          "metadata": {},
          "execution_count": 21
        }
      ]
    },
    {
      "cell_type": "code",
      "source": [
        "batsman_run.sort_values(ascending=False).head(10)"
      ],
      "metadata": {
        "colab": {
          "base_uri": "https://localhost:8080/"
        },
        "id": "vE_YvRlW7mXP",
        "outputId": "3c94fce8-02f8-4453-dea0-8470ce7ee40e"
      },
      "execution_count": null,
      "outputs": [
        {
          "output_type": "execute_result",
          "data": {
            "text/plain": [
              "batter\n",
              "V Kohli           6634\n",
              "S Dhawan          6244\n",
              "DA Warner         5883\n",
              "RG Sharma         5881\n",
              "SK Raina          5536\n",
              "AB de Villiers    5181\n",
              "CH Gayle          4997\n",
              "MS Dhoni          4978\n",
              "RV Uthappa        4954\n",
              "KD Karthik        4377\n",
              "Name: batsman_run, dtype: int64"
            ]
          },
          "metadata": {},
          "execution_count": 24
        }
      ]
    },
    {
      "cell_type": "code",
      "source": [],
      "metadata": {
        "id": "G7U5Nn3g7mZZ"
      },
      "execution_count": null,
      "outputs": []
    },
    {
      "cell_type": "markdown",
      "source": [
        "###`Q-7` No of players having runs above 3000"
      ],
      "metadata": {
        "id": "GzlCFBM_Y83g"
      }
    },
    {
      "cell_type": "code",
      "source": [
        "# code here\n",
        "batsman_run"
      ],
      "metadata": {
        "id": "JdNchHRWY1B-",
        "colab": {
          "base_uri": "https://localhost:8080/"
        },
        "outputId": "f8cb106d-f469-45b3-a879-dbbd4c366dd8"
      },
      "execution_count": null,
      "outputs": [
        {
          "output_type": "execute_result",
          "data": {
            "text/plain": [
              "batter\n",
              "A Ashish Reddy     280\n",
              "A Badoni           161\n",
              "A Chandila           4\n",
              "A Chopra            53\n",
              "A Choudhary         25\n",
              "                  ... \n",
              "Yash Dayal           0\n",
              "Yashpal Singh       47\n",
              "Younis Khan          3\n",
              "Yuvraj Singh      2754\n",
              "Z Khan             117\n",
              "Name: batsman_run, Length: 605, dtype: int64"
            ]
          },
          "metadata": {},
          "execution_count": 25
        }
      ]
    },
    {
      "cell_type": "code",
      "source": [
        "batsman_run[batsman_run>3000]"
      ],
      "metadata": {
        "colab": {
          "base_uri": "https://localhost:8080/"
        },
        "id": "TVayumVl8tkO",
        "outputId": "cfdceb3a-a86f-4f4d-bf4a-1dc094dbe699"
      },
      "execution_count": null,
      "outputs": [
        {
          "output_type": "execute_result",
          "data": {
            "text/plain": [
              "batter\n",
              "AB de Villiers    5181\n",
              "AM Rahane         4074\n",
              "AT Rayudu         4190\n",
              "CH Gayle          4997\n",
              "DA Warner         5883\n",
              "F du Plessis      3403\n",
              "G Gambhir         4217\n",
              "KA Pollard        3437\n",
              "KD Karthik        4377\n",
              "KL Rahul          3895\n",
              "MK Pandey         3657\n",
              "MS Dhoni          4978\n",
              "RG Sharma         5881\n",
              "RV Uthappa        4954\n",
              "S Dhawan          6244\n",
              "SK Raina          5536\n",
              "SR Watson         3880\n",
              "SV Samson         3526\n",
              "V Kohli           6634\n",
              "YK Pathan         3222\n",
              "Name: batsman_run, dtype: int64"
            ]
          },
          "metadata": {},
          "execution_count": 31
        }
      ]
    },
    {
      "cell_type": "code",
      "source": [
        "batsman_run[batsman_run>3000].size"
      ],
      "metadata": {
        "colab": {
          "base_uri": "https://localhost:8080/"
        },
        "id": "-5z9HBRx8tmy",
        "outputId": "ab1a1975-b4d4-4dee-fe2d-fe03aa7353f3"
      },
      "execution_count": null,
      "outputs": [
        {
          "output_type": "execute_result",
          "data": {
            "text/plain": [
              "20"
            ]
          },
          "metadata": {},
          "execution_count": 32
        }
      ]
    },
    {
      "cell_type": "code",
      "source": [],
      "metadata": {
        "id": "6mY4Xx7c8tpa"
      },
      "execution_count": null,
      "outputs": []
    },
    {
      "cell_type": "markdown",
      "source": [
        "###`Q-8` No of players having runs above mean value?"
      ],
      "metadata": {
        "id": "pMBEoCL1Y-vh"
      }
    },
    {
      "cell_type": "code",
      "source": [
        "# code here\n",
        "batsman_run[batsman_run>batsman_run.mean()]"
      ],
      "metadata": {
        "id": "LgtViVFZZBIu",
        "colab": {
          "base_uri": "https://localhost:8080/"
        },
        "outputId": "00c56aec-4640-4564-9ddd-d29d76c7e026"
      },
      "execution_count": null,
      "outputs": [
        {
          "output_type": "execute_result",
          "data": {
            "text/plain": [
              "batter\n",
              "A Symonds           974\n",
              "AB de Villiers     5181\n",
              "AC Gilchrist       2069\n",
              "AD Mathews          724\n",
              "AD Russell         2039\n",
              "                   ... \n",
              "WP Saha            2427\n",
              "Y Venugopal Rao     985\n",
              "YBK Jaiswal         547\n",
              "YK Pathan          3222\n",
              "Yuvraj Singh       2754\n",
              "Name: batsman_run, Length: 128, dtype: int64"
            ]
          },
          "metadata": {},
          "execution_count": 30
        }
      ]
    },
    {
      "cell_type": "code",
      "source": [
        "batsman_run[batsman_run>batsman_run.mean()].size"
      ],
      "metadata": {
        "colab": {
          "base_uri": "https://localhost:8080/"
        },
        "id": "1L54yxcO9l1z",
        "outputId": "a0e29d80-a932-44c1-c25d-bb5aea9466a3"
      },
      "execution_count": null,
      "outputs": [
        {
          "output_type": "execute_result",
          "data": {
            "text/plain": [
              "128"
            ]
          },
          "metadata": {},
          "execution_count": 33
        }
      ]
    },
    {
      "cell_type": "code",
      "source": [],
      "metadata": {
        "id": "b9c88PeZ9l4M"
      },
      "execution_count": null,
      "outputs": []
    },
    {
      "cell_type": "markdown",
      "source": [
        "Download data - https://drive.google.com/file/d/1QZuZ5bypUInfVvarHACLAi8tXXHvb8xd/view?usp=share_link\n",
        "\n",
        "file name - items.csv\n",
        "\n"
      ],
      "metadata": {
        "id": "OAB1CgdgZEqE"
      }
    },
    {
      "cell_type": "markdown",
      "source": [
        "###`Q-9`\n",
        "    i. Read `items.csv` making `item_name` as index.\n",
        "    ii. Show no of nan values\n",
        "    ii. Item price is given in $, so convert it to rupees without currency symbol.\n",
        "    iii. Make data type of newly made series as float.\n",
        "    iv. Fill nan with mean of the series\n",
        "\n",
        "\n",
        "How csv file looks\n",
        "\n",
        "```\n",
        "item_name\titem_price\n",
        "Chips and Fresh Tomato Salsa\t$2.39\n",
        "Izze\t$3.39\n",
        "Nantucket Nectar\t$3.39\n",
        "Chips and Tomatillo-Green Chili Salsa\t$2.39\n",
        "Chicken Bowl\t$16.98\n",
        "\n",
        "```"
      ],
      "metadata": {
        "id": "1UTQQImxZGLu"
      }
    },
    {
      "cell_type": "code",
      "source": [
        "#i. Read `items.csv` making `item_name` as index.\n",
        "item = pd.read_csv('/content/items.csv',index_col='item_name').squeeze()\n",
        "item"
      ],
      "metadata": {
        "id": "1xaWkoMJZFNK",
        "colab": {
          "base_uri": "https://localhost:8080/"
        },
        "outputId": "a5b90bb2-1f63-4865-f383-fa7fe8d62444"
      },
      "execution_count": null,
      "outputs": [
        {
          "output_type": "execute_result",
          "data": {
            "text/plain": [
              "item_name\n",
              "Chips and Fresh Tomato Salsa              $2.39 \n",
              "Izze                                      $3.39 \n",
              "Nantucket Nectar                          $3.39 \n",
              "Chips and Tomatillo-Green Chili Salsa     $2.39 \n",
              "Chicken Bowl                             $16.98 \n",
              "                                          ...   \n",
              "Steak Burrito                            $11.75 \n",
              "Steak Burrito                            $11.75 \n",
              "Chicken Salad Bowl                       $11.25 \n",
              "Chicken Salad Bowl                        $8.75 \n",
              "Chicken Salad Bowl                        $8.75 \n",
              "Name: item_price, Length: 4622, dtype: object"
            ]
          },
          "metadata": {},
          "execution_count": 5
        }
      ]
    },
    {
      "cell_type": "code",
      "source": [
        "#ii. Show no of nan values\n",
        "item[item.isnull()].size"
      ],
      "metadata": {
        "colab": {
          "base_uri": "https://localhost:8080/"
        },
        "id": "XQP-p-m897wa",
        "outputId": "43b09032-a7e5-4c72-eb93-2a4301c8f74d"
      },
      "execution_count": null,
      "outputs": [
        {
          "output_type": "execute_result",
          "data": {
            "text/plain": [
              "50"
            ]
          },
          "metadata": {},
          "execution_count": 37
        }
      ]
    },
    {
      "cell_type": "code",
      "source": [
        "#ii. Item price is given in $, so convert it to rupees without currency symbol.\n",
        "\n",
        "def taka(ser):\n",
        "  try:\n",
        "    y = ser[1:]\n",
        "  except:\n",
        "    y = ser\n",
        "  return float(y)*117.48\n",
        "\n",
        "item = item.apply(taka)\n",
        "\n",
        "item"
      ],
      "metadata": {
        "colab": {
          "base_uri": "https://localhost:8080/"
        },
        "id": "4K70Nvx-97zM",
        "outputId": "fb90473a-80cd-4cb4-dbc4-dfbd4c3683d3"
      },
      "execution_count": null,
      "outputs": [
        {
          "output_type": "execute_result",
          "data": {
            "text/plain": [
              "item_name\n",
              "Chips and Fresh Tomato Salsa              280.7772\n",
              "Izze                                      398.2572\n",
              "Nantucket Nectar                          398.2572\n",
              "Chips and Tomatillo-Green Chili Salsa     280.7772\n",
              "Chicken Bowl                             1994.8104\n",
              "                                           ...    \n",
              "Steak Burrito                            1380.3900\n",
              "Steak Burrito                            1380.3900\n",
              "Chicken Salad Bowl                       1321.6500\n",
              "Chicken Salad Bowl                       1027.9500\n",
              "Chicken Salad Bowl                       1027.9500\n",
              "Name: item_price, Length: 4622, dtype: float64"
            ]
          },
          "metadata": {},
          "execution_count": 36
        }
      ]
    },
    {
      "cell_type": "code",
      "source": [
        "#Fill nan with mean of the series\n",
        "\n",
        "\n",
        "item.fillna(item.mean())"
      ],
      "metadata": {
        "id": "m_QE5p5i972p",
        "colab": {
          "base_uri": "https://localhost:8080/"
        },
        "outputId": "93fc3e79-0538-4ad4-cced-9d50c36a597c"
      },
      "execution_count": null,
      "outputs": [
        {
          "output_type": "execute_result",
          "data": {
            "text/plain": [
              "item_name\n",
              "Chips and Fresh Tomato Salsa              280.7772\n",
              "Izze                                      398.2572\n",
              "Nantucket Nectar                          398.2572\n",
              "Chips and Tomatillo-Green Chili Salsa     280.7772\n",
              "Chicken Bowl                             1994.8104\n",
              "                                           ...    \n",
              "Steak Burrito                            1380.3900\n",
              "Steak Burrito                            1380.3900\n",
              "Chicken Salad Bowl                       1321.6500\n",
              "Chicken Salad Bowl                       1027.9500\n",
              "Chicken Salad Bowl                       1027.9500\n",
              "Name: item_price, Length: 4622, dtype: float64"
            ]
          },
          "metadata": {},
          "execution_count": 37
        }
      ]
    },
    {
      "cell_type": "code",
      "source": [],
      "metadata": {
        "id": "Kgvd43lk975H"
      },
      "execution_count": null,
      "outputs": []
    },
    {
      "cell_type": "markdown",
      "source": [
        "###`Q-10`:\n",
        "    i. Find mean price\n",
        "    ii. Find 30th and 6th percentile value\n",
        "    iii. Plot Histogram on price with bin size 50\n",
        "    iv. No of items price lies between [1000 to 2000]\n",
        "\n"
      ],
      "metadata": {
        "id": "UHc_4e9cZK8r"
      }
    },
    {
      "cell_type": "code",
      "source": [
        "item.mean()"
      ],
      "metadata": {
        "colab": {
          "base_uri": "https://localhost:8080/"
        },
        "id": "n4T9GL2HBWkB",
        "outputId": "9e29fbb1-b119-44b2-caa7-3be8077ead1c"
      },
      "execution_count": null,
      "outputs": [
        {
          "output_type": "execute_result",
          "data": {
            "text/plain": [
              "876.7569401574804"
            ]
          },
          "metadata": {},
          "execution_count": 38
        }
      ]
    },
    {
      "cell_type": "code",
      "source": [
        "item.quantile(0.3)"
      ],
      "metadata": {
        "colab": {
          "base_uri": "https://localhost:8080/"
        },
        "id": "KVEvehlVBWmv",
        "outputId": "37c6ee96-1b1c-4d23-b4c8-71e642de8d62"
      },
      "execution_count": null,
      "outputs": [
        {
          "output_type": "execute_result",
          "data": {
            "text/plain": [
              "522.7860000000001"
            ]
          },
          "metadata": {},
          "execution_count": 41
        }
      ]
    },
    {
      "cell_type": "code",
      "source": [
        "item.quantile(0.06)"
      ],
      "metadata": {
        "colab": {
          "base_uri": "https://localhost:8080/"
        },
        "id": "g_pADaK7BWp4",
        "outputId": "b2f75f2a-fefe-4aa1-acbd-58221fe08824"
      },
      "execution_count": null,
      "outputs": [
        {
          "output_type": "execute_result",
          "data": {
            "text/plain": [
              "146.85"
            ]
          },
          "metadata": {},
          "execution_count": 42
        }
      ]
    },
    {
      "cell_type": "code",
      "source": [
        "item.plot.hist(bins=50)"
      ],
      "metadata": {
        "colab": {
          "base_uri": "https://localhost:8080/",
          "height": 448
        },
        "id": "I1HACXERBWsg",
        "outputId": "9eb07e94-df3a-4f1e-b88a-28db7ac9bfe3"
      },
      "execution_count": null,
      "outputs": [
        {
          "output_type": "execute_result",
          "data": {
            "text/plain": [
              "<Axes: ylabel='Frequency'>"
            ]
          },
          "metadata": {},
          "execution_count": 44
        },
        {
          "output_type": "display_data",
          "data": {
            "text/plain": [
              "<Figure size 640x480 with 1 Axes>"
            ],
            "image/png": "[encoded data removed]"
          },
          "metadata": {}
        }
      ]
    },
    {
      "cell_type": "code",
      "source": [
        "item[item.between(100,2000)]"
      ],
      "metadata": {
        "id": "tnuAAY5aCn4F",
        "colab": {
          "base_uri": "https://localhost:8080/"
        },
        "outputId": "e700e531-6367-4492-9557-259036fe801e"
      },
      "execution_count": 46,
      "outputs": [
        {
          "output_type": "execute_result",
          "data": {
            "text/plain": [
              "item_name\n",
              "Chips and Fresh Tomato Salsa              280.7772\n",
              "Izze                                      398.2572\n",
              "Nantucket Nectar                          398.2572\n",
              "Chips and Tomatillo-Green Chili Salsa     280.7772\n",
              "Chicken Bowl                             1994.8104\n",
              "                                           ...    \n",
              "Steak Burrito                            1380.3900\n",
              "Steak Burrito                            1380.3900\n",
              "Chicken Salad Bowl                       1321.6500\n",
              "Chicken Salad Bowl                       1027.9500\n",
              "Chicken Salad Bowl                       1027.9500\n",
              "Name: item_price, Length: 4468, dtype: float64"
            ]
          },
          "metadata": {},
          "execution_count": 46
        }
      ]
    }
  ]
}